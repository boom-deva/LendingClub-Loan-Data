{
 "cells": [
  {
   "cell_type": "markdown",
   "metadata": {},
   "source": [
    "# Modeling"
   ]
  },
  {
   "cell_type": "code",
   "execution_count": 2,
   "metadata": {},
   "outputs": [],
   "source": [
    "#instantiate Logistic Regression and get up and running by the end of the day\n",
    "import matplotlib.pyplot as plt\n",
    "import numpy as np\n",
    "import pandas as pd\n",
    "import seaborn as sns\n",
    "import time\n",
    "plt.style.use('fivethirtyeight')\n",
    "\n",
    "%matplotlib inline\n",
    "%config InlineBackend.figure_format = 'retina'\n",
    "\n",
    "# Import sklearn elements\n",
    "from sklearn.linear_model import LogisticRegression\n",
    "from sklearn.model_selection import GridSearchCV, train_test_split, cross_val_score\n",
    "from sklearn.metrics import accuracy_score, recall_score, precision_score, confusion_matrix, r2_score\n",
    "from sklearn.ensemble import RandomForestClassifier\n",
    "\n",
    "#import xgboost\n",
    "from xgboost import XGBClassifier"
   ]
  },
  {
   "cell_type": "code",
   "execution_count": 3,
   "metadata": {},
   "outputs": [],
   "source": [
    "#read in file from csv to dataframe\n",
    "data_read = pd.read_csv('./cleaned_FEATURES.csv')\n"
   ]
  },
  {
   "cell_type": "code",
   "execution_count": 4,
   "metadata": {},
   "outputs": [],
   "source": [
    "data = data_read"
   ]
  },
  {
   "cell_type": "code",
   "execution_count": 5,
   "metadata": {},
   "outputs": [],
   "source": [
    "num_cols = data.select_dtypes(include=('int64', 'float64')).columns"
   ]
  },
  {
   "cell_type": "code",
   "execution_count": 6,
   "metadata": {},
   "outputs": [
    {
     "data": {
      "text/plain": [
       "['loan_amnt',\n",
       " 'int_rate',\n",
       " 'installment',\n",
       " 'grade',\n",
       " 'emp_length',\n",
       " 'annual_inc',\n",
       " 'dti',\n",
       " 'delinq_2yrs',\n",
       " 'fico_range_low',\n",
       " 'fico_range_high',\n",
       " 'inq_last_6mths',\n",
       " 'open_acc',\n",
       " 'pub_rec',\n",
       " 'revol_bal',\n",
       " 'revol_util',\n",
       " 'total_acc',\n",
       " 'out_prncp',\n",
       " 'out_prncp_inv',\n",
       " 'recoveries',\n",
       " 'collection_recovery_fee',\n",
       " 'last_pymnt_amnt',\n",
       " 'last_fico_range_high',\n",
       " 'last_fico_range_low',\n",
       " 'collections_12_mths_ex_med',\n",
       " 'acc_now_delinq',\n",
       " 'tot_coll_amt',\n",
       " 'tot_cur_bal',\n",
       " 'acc_open_past_24mths',\n",
       " 'avg_cur_bal',\n",
       " 'bc_open_to_buy',\n",
       " 'bc_util',\n",
       " 'chargeoff_within_12_mths',\n",
       " 'delinq_amnt',\n",
       " 'mort_acc',\n",
       " 'num_accts_ever_120_pd',\n",
       " 'num_actv_bc_tl',\n",
       " 'num_actv_rev_tl',\n",
       " 'num_bc_sats',\n",
       " 'num_bc_tl',\n",
       " 'num_il_tl',\n",
       " 'num_op_rev_tl',\n",
       " 'num_rev_accts',\n",
       " 'num_rev_tl_bal_gt_0',\n",
       " 'num_sats',\n",
       " 'num_tl_30dpd',\n",
       " 'num_tl_90g_dpd_24m',\n",
       " 'num_tl_op_past_12m',\n",
       " 'pct_tl_nvr_dlq',\n",
       " 'percent_bc_gt_75',\n",
       " 'pub_rec_bankruptcies',\n",
       " 'tax_liens',\n",
       " 'tot_hi_cred_lim',\n",
       " 'total_bal_ex_mort',\n",
       " 'total_il_high_credit_limit',\n",
       " 'classes',\n",
       " 'credit_length_days',\n",
       " 'desc_length',\n",
       " 'all_text_length',\n",
       " 'emp_title_length',\n",
       " 'title_length',\n",
       " 'purpose_credit_card',\n",
       " 'purpose_debt_consolidation',\n",
       " 'purpose_home_improvement',\n",
       " 'purpose_house',\n",
       " 'purpose_major_purchase',\n",
       " 'purpose_medical',\n",
       " 'purpose_moving',\n",
       " 'purpose_other',\n",
       " 'purpose_renewable_energy',\n",
       " 'purpose_small_business',\n",
       " 'purpose_vacation',\n",
       " 'purpose_wedding',\n",
       " 'term_ 60 months',\n",
       " 'verification_status_Source Verified',\n",
       " 'verification_status_Verified',\n",
       " 'pymnt_plan_y',\n",
       " 'application_type_Joint App',\n",
       " 'hardship_flag_Y',\n",
       " 'addr_state_AL',\n",
       " 'addr_state_AR',\n",
       " 'addr_state_AZ',\n",
       " 'addr_state_CA',\n",
       " 'addr_state_CO',\n",
       " 'addr_state_CT',\n",
       " 'addr_state_DC',\n",
       " 'addr_state_DE',\n",
       " 'addr_state_FL',\n",
       " 'addr_state_GA',\n",
       " 'addr_state_HI',\n",
       " 'addr_state_IA',\n",
       " 'addr_state_ID',\n",
       " 'addr_state_IL',\n",
       " 'addr_state_IN',\n",
       " 'addr_state_KS',\n",
       " 'addr_state_KY',\n",
       " 'addr_state_LA',\n",
       " 'addr_state_MA',\n",
       " 'addr_state_MD',\n",
       " 'addr_state_ME',\n",
       " 'addr_state_MI',\n",
       " 'addr_state_MN',\n",
       " 'addr_state_MO',\n",
       " 'addr_state_MS',\n",
       " 'addr_state_MT',\n",
       " 'addr_state_NC',\n",
       " 'addr_state_ND',\n",
       " 'addr_state_NE',\n",
       " 'addr_state_NH',\n",
       " 'addr_state_NJ',\n",
       " 'addr_state_NM',\n",
       " 'addr_state_NV',\n",
       " 'addr_state_NY',\n",
       " 'addr_state_OH',\n",
       " 'addr_state_OK',\n",
       " 'addr_state_OR',\n",
       " 'addr_state_PA',\n",
       " 'addr_state_RI',\n",
       " 'addr_state_SC',\n",
       " 'addr_state_SD',\n",
       " 'addr_state_TN',\n",
       " 'addr_state_TX',\n",
       " 'addr_state_UT',\n",
       " 'addr_state_VA',\n",
       " 'addr_state_VT',\n",
       " 'addr_state_WA',\n",
       " 'addr_state_WI',\n",
       " 'addr_state_WV',\n",
       " 'addr_state_WY',\n",
       " 'disbursement_method_DirectPay',\n",
       " 'debt_settlement_flag_Y',\n",
       " 'home_ownership_MORTGAGE',\n",
       " 'home_ownership_NONE',\n",
       " 'home_ownership_OTHER',\n",
       " 'home_ownership_OWN',\n",
       " 'home_ownership_RENT',\n",
       " 'desc_length*all_text_length',\n",
       " 'num_actv_rev_tl*num_rev_tl_bal_gt_0',\n",
       " 'tot_cur_bal*tot_hi_cred_lim',\n",
       " 'recoveries*collection_recovery_fee',\n",
       " 'int_rate*grade',\n",
       " 'funded_amnt*installment',\n",
       " 'loan_amnt*installment',\n",
       " 'funded_amnt_inv*installment',\n",
       " 'total_bal_ex_mort*total_il_high_credit_limit',\n",
       " 'pymnt_plan_y*hardship_flag_Y',\n",
       " 'revol_util*bc_util',\n",
       " 'bc_util*percent_bc_gt_75',\n",
       " 'tot_cur_bal*avg_cur_bal',\n",
       " 'num_bc_tl*num_rev_accts',\n",
       " 'last_fico_range_high*last_fico_range_low',\n",
       " 'open_acc*num_op_rev_tl',\n",
       " 'num_op_rev_tl*num_sats',\n",
       " 'num_actv_bc_tl*num_bc_sats',\n",
       " 'num_actv_bc_tl*num_actv_rev_tl',\n",
       " 'avg_cur_bal*tot_hi_cred_lim',\n",
       " 'num_actv_bc_tl*num_rev_tl_bal_gt_0']"
      ]
     },
     "execution_count": 6,
     "metadata": {},
     "output_type": "execute_result"
    }
   ],
   "source": [
    "list(num_cols)"
   ]
  },
  {
   "cell_type": "code",
   "execution_count": 7,
   "metadata": {},
   "outputs": [
    {
     "data": {
      "text/plain": [
       "int64      85\n",
       "float64    71\n",
       "object      6\n",
       "dtype: int64"
      ]
     },
     "execution_count": 7,
     "metadata": {},
     "output_type": "execute_result"
    }
   ],
   "source": [
    "data.dtypes.value_counts()"
   ]
  },
  {
   "cell_type": "code",
   "execution_count": 8,
   "metadata": {},
   "outputs": [],
   "source": [
    "X = data[num_cols].drop(columns='classes')\n",
    "y = data['classes']"
   ]
  },
  {
   "cell_type": "code",
   "execution_count": 9,
   "metadata": {},
   "outputs": [
    {
     "data": {
      "text/plain": [
       "int64      84\n",
       "float64    71\n",
       "dtype: int64"
      ]
     },
     "execution_count": 9,
     "metadata": {},
     "output_type": "execute_result"
    }
   ],
   "source": [
    "X.dtypes.value_counts()"
   ]
  },
  {
   "cell_type": "code",
   "execution_count": 10,
   "metadata": {},
   "outputs": [],
   "source": [
    "# Create training and testing sets.\n",
    "X_train, X_test, y_train, y_test = train_test_split(X,\n",
    "                                                    y,\n",
    "                                                    test_size=0.30,\n",
    "                                                    random_state=420,\n",
    "                                                    stratify = y)"
   ]
  },
  {
   "cell_type": "code",
   "execution_count": 11,
   "metadata": {},
   "outputs": [
    {
     "data": {
      "text/plain": [
       "(847634, 155)"
      ]
     },
     "execution_count": 11,
     "metadata": {},
     "output_type": "execute_result"
    }
   ],
   "source": [
    "X_train.shape"
   ]
  },
  {
   "cell_type": "code",
   "execution_count": 12,
   "metadata": {
    "scrolled": false
   },
   "outputs": [
    {
     "data": {
      "text/plain": [
       "(847634,)"
      ]
     },
     "execution_count": 12,
     "metadata": {},
     "output_type": "execute_result"
    }
   ],
   "source": [
    "y_train.shape"
   ]
  },
  {
   "cell_type": "code",
   "execution_count": 29,
   "metadata": {},
   "outputs": [],
   "source": [
    "def metrics(model):\n",
    "    preds          = model.predict(X_test) #generate predictions\n",
    "    \n",
    "    test_conf      = confusion_matrix(y_test,# True values.\n",
    "                                  preds) # Predicted values.\n",
    "    \n",
    "    tn, fp, fn, tp = test_conf.ravel() #unravel values to use in metrics\n",
    "    \n",
    "    accuracy       = accuracy_score(y_test, preds)\n",
    "    print(\"Accuracy: %.2f%%\" % (accuracy * 100.0))\n",
    "\n",
    "    recall         = recall_score(y_test, preds)\n",
    "    print(\"Recall: %.2f%%\" % (recall * 100.0))\n",
    "\n",
    "    precision      = precision_score(y_test, preds)\n",
    "    print(\"Precision: %.2f%%\" % (precision * 100.0))\n",
    "\n",
    "    specificity    = tn / (tn+fp)\n",
    "    specificity    = specificity * 100.0\n",
    "    print(f\"Specificity: {round((specificity),2)}%\")\n",
    "    \n",
    "    sensitivity    = tp / (tp+fn)\n",
    "    sensitivity    = sensitivity * 100.0\n",
    "    print(f\"Sensitivity: {round((sensitivity),2)}%\")\n",
    "    \n",
    "    df_conf= pd.DataFrame(test_conf, index =  ['Actual Failure', 'Actual Success'],\n",
    "                    columns = ['Predicted Failure', 'Predicted Success'])\n",
    "    return(df_conf)"
   ]
  },
  {
   "cell_type": "code",
   "execution_count": 16,
   "metadata": {},
   "outputs": [],
   "source": [
    "def cv_score(model):\n",
    "    cv_train = cross_val_score(model, X_train, y_train, cv=3).mean()\n",
    "    cv_test = cross_val_score(model, X_test, y_test, cv=3).mean()\n",
    "    print(f'CV Score for Training: {cv_train}')\n",
    "    print(f'CV Score for Testing: {cv_test}')"
   ]
  },
  {
   "cell_type": "markdown",
   "metadata": {},
   "source": [
    "## Logistic Regression"
   ]
  },
  {
   "cell_type": "markdown",
   "metadata": {},
   "source": [
    "**Assumptions of Logistic Regression:**\n",
    "- Linearity: The independent variables X1, . . . , Xm are linearly related to the logit of the probability that Y = 1 or, equivalently, the log-odds that Y = 1.\n",
    "- Independence of Errors: The observations y1, . . . , yn are independent of one another.\n",
    "- Distribution of Errors: Each observation yi follows a Bernoulli distribution with probability of success pi.\n",
    "- Independence of Independent Variables: The independent variables X1, . . . , Xm are independent of one another."
   ]
  },
  {
   "cell_type": "code",
   "execution_count": 13,
   "metadata": {
    "scrolled": true
   },
   "outputs": [
    {
     "data": {
      "text/plain": [
       "LogisticRegression(C=1.0, class_weight=None, dual=False, fit_intercept=True,\n",
       "          intercept_scaling=1, max_iter=100, multi_class='warn',\n",
       "          n_jobs=None, penalty='l2', random_state=None, solver='liblinear',\n",
       "          tol=0.0001, verbose=0, warm_start=False)"
      ]
     },
     "execution_count": 13,
     "metadata": {},
     "output_type": "execute_result"
    }
   ],
   "source": [
    "# Step 1: Instantiate our model.\n",
    "logreg = LogisticRegression(solver='liblinear')\n",
    "\n",
    "# Step 2: Fit our model.\n",
    "logreg.fit(X_train, y_train)"
   ]
  },
  {
   "cell_type": "code",
   "execution_count": 14,
   "metadata": {},
   "outputs": [
    {
     "name": "stdout",
     "output_type": "stream",
     "text": [
      "Logistic Regression Intercept: [6.32961328e-14]\n",
      "Logistic Regression Coefficient: [[ 4.07904076e-10  5.96308983e-13  1.38685475e-11  3.97652170e-13\n",
      "   3.65134606e-13  3.58958541e-09  9.55160985e-13  1.44740001e-14\n",
      "   4.42965257e-11  4.45497139e-11  2.93043667e-14  6.55296536e-13\n",
      "   1.43212357e-14  5.74296441e-10  2.94267183e-12  1.40966286e-12\n",
      "  -8.16589498e-11 -8.16419450e-11 -8.55622428e-11 -1.43699681e-11\n",
      "   7.19649478e-10  5.33124581e-11  5.63098828e-11  8.04785828e-16\n",
      "   1.81214189e-16  1.84079718e-11  3.52829790e-09  2.31774505e-13\n",
      "   3.75436627e-10  5.98756624e-10  3.48069342e-12  4.89812832e-16\n",
      "  -1.17568426e-13  7.59389274e-14  3.01246166e-14  2.01801095e-13\n",
      "   3.05684566e-13  2.69587830e-13  4.85434240e-13  4.47955437e-13\n",
      "   4.80342780e-13  8.71571369e-13  3.05066804e-13  6.52654291e-13\n",
      "   9.89937753e-17  4.57196640e-15  1.06423871e-13  5.96500407e-12\n",
      "   2.45818434e-12  9.89397629e-15  2.54569938e-15  4.86727510e-09\n",
      "   1.63626464e-09  1.40523224e-09  3.53115575e-10  1.21189313e-12\n",
      "   3.48816946e-12  1.03183793e-12  1.11784614e-12  1.76974673e-14\n",
      "   3.34928860e-14  3.38120823e-15  2.30347853e-16  1.44867512e-15\n",
      "   7.73584117e-16  5.05765691e-16  3.96351160e-15  3.90125652e-17\n",
      "  -4.69980673e-18  6.06461676e-16  8.92173696e-17 -5.76589021e-15\n",
      "   2.38730704e-14  9.44700165e-15 -1.63895352e-16 -2.78618836e-16\n",
      "  -2.18563433e-16  5.66315985e-16  3.36592913e-16  1.58431974e-15\n",
      "   9.33823703e-15  1.85012121e-15  1.00870111e-15  2.18636925e-16\n",
      "   1.45610839e-16  4.31525030e-15  2.18063519e-15  2.96176919e-16\n",
      "   0.00000000e+00  8.76272092e-17  2.76276059e-15  1.11784912e-15\n",
      "   7.00313630e-16  5.98337559e-16  4.90148733e-16  1.33616696e-15\n",
      "   8.99410414e-16  1.36643357e-16  1.84711387e-15  1.19608723e-15\n",
      "   9.77020878e-16  1.53620262e-16  2.58026717e-16  1.73602859e-15\n",
      "   7.81408833e-17  1.45944745e-16  4.07211636e-16  1.83475943e-15\n",
      "   3.05792966e-16  8.56125478e-16  4.82771528e-15  2.26421740e-15\n",
      "   4.49068511e-16  1.21546746e-15  2.02555600e-15  3.28531922e-16\n",
      "   9.56868825e-16  1.51130948e-16  9.71750207e-16  4.90308825e-15\n",
      "   5.50119648e-16  1.32509836e-15  1.82690069e-16  1.74839633e-15\n",
      "   1.05176812e-15  3.19036128e-16  1.47984306e-16  1.56466482e-16\n",
      "  -8.20907739e-15  2.50123177e-14  3.99908776e-18  2.61679739e-18\n",
      "   7.04672868e-15  3.12193771e-14  3.15819687e-10  1.87569924e-12\n",
      "  -4.22765450e-12 -6.01219304e-08  3.88044665e-12  9.77836311e-09\n",
      "   9.77844748e-09  9.76371173e-09  2.90613887e-11 -1.63895352e-16\n",
      "   1.97646737e-10  1.87975601e-10 -7.29190401e-10  8.61615067e-12\n",
      "   4.41831710e-08  5.95529529e-12  5.93103304e-12  1.06906789e-12\n",
      "   1.19641201e-12  7.81469409e-10  1.19232674e-12]]\n"
     ]
    }
   ],
   "source": [
    "#return the intercept and coefficients\n",
    "print(f'Logistic Regression Intercept: {logreg.intercept_}')\n",
    "print(f'Logistic Regression Coefficient: {logreg.coef_}')"
   ]
  },
  {
   "cell_type": "code",
   "execution_count": 15,
   "metadata": {},
   "outputs": [],
   "source": [
    "## how to better represent the coefficients?"
   ]
  },
  {
   "cell_type": "code",
   "execution_count": 17,
   "metadata": {
    "scrolled": true
   },
   "outputs": [
    {
     "name": "stdout",
     "output_type": "stream",
     "text": [
      "Logistic Regression train score: 0.7890657996257818\n",
      "Logistic Regression test score: 0.7891634918188024\n"
     ]
    }
   ],
   "source": [
    "#how to visualize these results?\n",
    "print(f'Logistic Regression train score: {logreg.score(X_train, y_train)}')\n",
    "print(f'Logistic Regression test score: {logreg.score(X_test, y_test)}')"
   ]
  },
  {
   "cell_type": "code",
   "execution_count": 36,
   "metadata": {
    "scrolled": true
   },
   "outputs": [
    {
     "name": "stdout",
     "output_type": "stream",
     "text": [
      "CV Score for Training: 0.7894504068921031\n",
      "CV Score for Testing: 0.7955884107197421\n"
     ]
    }
   ],
   "source": [
    "cv_train = cross_val_score(logreg, X_train, y_train, cv=3).mean()\n",
    "cv_test = cross_val_score(logreg, X_test, y_test, cv=3).mean()\n",
    "print(f'CV Score for Training: {cv_train}')\n",
    "print(f'CV Score for Testing: {cv_test}')"
   ]
  },
  {
   "cell_type": "code",
   "execution_count": 30,
   "metadata": {},
   "outputs": [
    {
     "name": "stdout",
     "output_type": "stream",
     "text": [
      "Accuracy: 78.92%\n",
      "Recall: 99.91%\n",
      "Precision: 78.91%\n",
      "Specificity: 1.36%\n",
      "Sensitivity: 99.91%\n"
     ]
    },
    {
     "data": {
      "text/html": [
       "<div>\n",
       "<style scoped>\n",
       "    .dataframe tbody tr th:only-of-type {\n",
       "        vertical-align: middle;\n",
       "    }\n",
       "\n",
       "    .dataframe tbody tr th {\n",
       "        vertical-align: top;\n",
       "    }\n",
       "\n",
       "    .dataframe thead th {\n",
       "        text-align: right;\n",
       "    }\n",
       "</style>\n",
       "<table border=\"1\" class=\"dataframe\">\n",
       "  <thead>\n",
       "    <tr style=\"text-align: right;\">\n",
       "      <th></th>\n",
       "      <th>Predicted Failure</th>\n",
       "      <th>Predicted Success</th>\n",
       "    </tr>\n",
       "  </thead>\n",
       "  <tbody>\n",
       "    <tr>\n",
       "      <th>Actual Failure</th>\n",
       "      <td>1055</td>\n",
       "      <td>76335</td>\n",
       "    </tr>\n",
       "    <tr>\n",
       "      <th>Actual Success</th>\n",
       "      <td>256</td>\n",
       "      <td>285626</td>\n",
       "    </tr>\n",
       "  </tbody>\n",
       "</table>\n",
       "</div>"
      ],
      "text/plain": [
       "                Predicted Failure  Predicted Success\n",
       "Actual Failure               1055              76335\n",
       "Actual Success                256             285626"
      ]
     },
     "execution_count": 30,
     "metadata": {},
     "output_type": "execute_result"
    }
   ],
   "source": [
    "metrics(logreg)"
   ]
  },
  {
   "cell_type": "code",
   "execution_count": 21,
   "metadata": {
    "scrolled": false
   },
   "outputs": [
    {
     "data": {
      "text/plain": [
       "1    0.786963\n",
       "0    0.213037\n",
       "Name: classes, dtype: float64"
      ]
     },
     "execution_count": 21,
     "metadata": {},
     "output_type": "execute_result"
    }
   ],
   "source": [
    "data['classes'].value_counts(normalize=True)"
   ]
  },
  {
   "cell_type": "markdown",
   "metadata": {},
   "source": [
    "## Random Forest"
   ]
  },
  {
   "cell_type": "code",
   "execution_count": 22,
   "metadata": {},
   "outputs": [
    {
     "data": {
      "text/plain": [
       "RandomForestClassifier(bootstrap=True, class_weight=None, criterion='gini',\n",
       "            max_depth=5, max_features=5, max_leaf_nodes=None,\n",
       "            min_impurity_decrease=0.0, min_impurity_split=None,\n",
       "            min_samples_leaf=1, min_samples_split=2,\n",
       "            min_weight_fraction_leaf=0.0, n_estimators=50, n_jobs=None,\n",
       "            oob_score=False, random_state=None, verbose=0,\n",
       "            warm_start=False)"
      ]
     },
     "execution_count": 22,
     "metadata": {},
     "output_type": "execute_result"
    }
   ],
   "source": [
    "rf = RandomForestClassifier(max_depth= 5, max_features= 5, n_estimators= 50)\n",
    "rf.fit(X_train, y_train)"
   ]
  },
  {
   "cell_type": "code",
   "execution_count": 33,
   "metadata": {},
   "outputs": [
    {
     "name": "stdout",
     "output_type": "stream",
     "text": [
      "Random Forest train score: 0.9180058846152939\n",
      "Random Forest test score: 0.9171942786672246\n"
     ]
    }
   ],
   "source": [
    "print(f'Random Forest train score: {rf.score(X_train, y_train)}')\n",
    "print(f'Random Forest test score: {rf.score(X_test, y_test)}')"
   ]
  },
  {
   "cell_type": "code",
   "execution_count": 31,
   "metadata": {},
   "outputs": [
    {
     "name": "stdout",
     "output_type": "stream",
     "text": [
      "Accuracy: 91.72%\n",
      "Recall: 100.00%\n",
      "Precision: 90.48%\n",
      "Specificity: 61.13%\n",
      "Sensitivity: 100.0%\n"
     ]
    },
    {
     "data": {
      "text/html": [
       "<div>\n",
       "<style scoped>\n",
       "    .dataframe tbody tr th:only-of-type {\n",
       "        vertical-align: middle;\n",
       "    }\n",
       "\n",
       "    .dataframe tbody tr th {\n",
       "        vertical-align: top;\n",
       "    }\n",
       "\n",
       "    .dataframe thead th {\n",
       "        text-align: right;\n",
       "    }\n",
       "</style>\n",
       "<table border=\"1\" class=\"dataframe\">\n",
       "  <thead>\n",
       "    <tr style=\"text-align: right;\">\n",
       "      <th></th>\n",
       "      <th>Predicted Failure</th>\n",
       "      <th>Predicted Success</th>\n",
       "    </tr>\n",
       "  </thead>\n",
       "  <tbody>\n",
       "    <tr>\n",
       "      <th>Actual Failure</th>\n",
       "      <td>47309</td>\n",
       "      <td>30081</td>\n",
       "    </tr>\n",
       "    <tr>\n",
       "      <th>Actual Success</th>\n",
       "      <td>0</td>\n",
       "      <td>285882</td>\n",
       "    </tr>\n",
       "  </tbody>\n",
       "</table>\n",
       "</div>"
      ],
      "text/plain": [
       "                Predicted Failure  Predicted Success\n",
       "Actual Failure              47309              30081\n",
       "Actual Success                  0             285882"
      ]
     },
     "execution_count": 31,
     "metadata": {},
     "output_type": "execute_result"
    }
   ],
   "source": [
    "metrics(rf)"
   ]
  },
  {
   "cell_type": "markdown",
   "metadata": {},
   "source": [
    "best params result: \n",
    "{'max_depth': 5, 'max_features': 5, 'n_estimators': 50}"
   ]
  },
  {
   "cell_type": "markdown",
   "metadata": {},
   "source": [
    "## XGBoost"
   ]
  },
  {
   "cell_type": "code",
   "execution_count": 26,
   "metadata": {},
   "outputs": [],
   "source": [
    "xgb = XGBClassifier()"
   ]
  },
  {
   "cell_type": "code",
   "execution_count": 27,
   "metadata": {},
   "outputs": [
    {
     "data": {
      "text/plain": [
       "XGBClassifier(base_score=0.5, booster='gbtree', colsample_bylevel=1,\n",
       "       colsample_bytree=1, gamma=0, learning_rate=0.1, max_delta_step=0,\n",
       "       max_depth=3, min_child_weight=1, missing=None, n_estimators=100,\n",
       "       n_jobs=1, nthread=None, objective='binary:logistic', random_state=0,\n",
       "       reg_alpha=0, reg_lambda=1, scale_pos_weight=1, seed=None,\n",
       "       silent=True, subsample=1)"
      ]
     },
     "execution_count": 27,
     "metadata": {},
     "output_type": "execute_result"
    }
   ],
   "source": [
    "xgb.fit(X_train, y_train)"
   ]
  },
  {
   "cell_type": "code",
   "execution_count": 32,
   "metadata": {},
   "outputs": [
    {
     "name": "stdout",
     "output_type": "stream",
     "text": [
      "Accuracy: 97.75%\n",
      "Recall: 98.68%\n",
      "Precision: 98.46%\n",
      "Specificity: 94.32%\n",
      "Sensitivity: 98.68%\n"
     ]
    },
    {
     "data": {
      "text/html": [
       "<div>\n",
       "<style scoped>\n",
       "    .dataframe tbody tr th:only-of-type {\n",
       "        vertical-align: middle;\n",
       "    }\n",
       "\n",
       "    .dataframe tbody tr th {\n",
       "        vertical-align: top;\n",
       "    }\n",
       "\n",
       "    .dataframe thead th {\n",
       "        text-align: right;\n",
       "    }\n",
       "</style>\n",
       "<table border=\"1\" class=\"dataframe\">\n",
       "  <thead>\n",
       "    <tr style=\"text-align: right;\">\n",
       "      <th></th>\n",
       "      <th>Predicted Failure</th>\n",
       "      <th>Predicted Success</th>\n",
       "    </tr>\n",
       "  </thead>\n",
       "  <tbody>\n",
       "    <tr>\n",
       "      <th>Actual Failure</th>\n",
       "      <td>72992</td>\n",
       "      <td>4398</td>\n",
       "    </tr>\n",
       "    <tr>\n",
       "      <th>Actual Success</th>\n",
       "      <td>3779</td>\n",
       "      <td>282103</td>\n",
       "    </tr>\n",
       "  </tbody>\n",
       "</table>\n",
       "</div>"
      ],
      "text/plain": [
       "                Predicted Failure  Predicted Success\n",
       "Actual Failure              72992               4398\n",
       "Actual Success               3779             282103"
      ]
     },
     "execution_count": 32,
     "metadata": {},
     "output_type": "execute_result"
    }
   ],
   "source": [
    "metrics(xgb)"
   ]
  },
  {
   "cell_type": "code",
   "execution_count": 35,
   "metadata": {},
   "outputs": [
    {
     "name": "stdout",
     "output_type": "stream",
     "text": [
      "XGBoost train score: 0.9779362319114145\n",
      "XGBoost test score: 0.9774906956770685\n"
     ]
    }
   ],
   "source": [
    "print(f'XGBoost train score: {xgb.score(X_train, y_train)}')\n",
    "print(f'XGBoost test score: {xgb.score(X_test, y_test)}')"
   ]
  },
  {
   "cell_type": "markdown",
   "metadata": {},
   "source": [
    "### VISUALIZATION FOR RESULTS OF THE FOLLOWING TESTS:\n",
    "1. Logistic Regression\n",
    "2. Random Forest\n",
    "3. XGBoost"
   ]
  },
  {
   "cell_type": "markdown",
   "metadata": {},
   "source": [
    "Conclusions: As expected, XGBoost is the undisputed champion in the classification engine world! This is the first time using XGBoost, but after hearing about all of the success attributed to it for Kaggle competitions I had to give it a shot. Honestly, this surpasses even my wildest expectations in all metrics. As an important takeaway, it also minimized the potential costs to investors as determined by False Positives- when the algorithm predicted Successful loans but they ended up being Failures. "
   ]
  }
 ],
 "metadata": {
  "kernelspec": {
   "display_name": "Python 3",
   "language": "python",
   "name": "python3"
  },
  "language_info": {
   "codemirror_mode": {
    "name": "ipython",
    "version": 3
   },
   "file_extension": ".py",
   "mimetype": "text/x-python",
   "name": "python",
   "nbconvert_exporter": "python",
   "pygments_lexer": "ipython3",
   "version": "3.7.1"
  }
 },
 "nbformat": 4,
 "nbformat_minor": 2
}
